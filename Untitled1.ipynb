{
 "cells": [
  {
   "cell_type": "code",
   "execution_count": null,
   "metadata": {},
   "outputs": [],
   "source": [
    "import chromedriver_binary\n",
    "import re\n",
    "import time\n",
    "from selenium import webdriver\n",
    "\n",
    "def scraper(url):\n",
    "    facebook = 'facebook\\.com|fb(?:\\.me|\\.com)' \n",
    "    twitter = 'twitter\\.com'\n",
    "    instagram = 'instagram\\.com'\n",
    "    contents = {}\n",
    "    #TODO: Use try catch instead, and probably store the regex somewhere\n",
    "    regex_pattern = fr'^(?:https?:\\/\\/)?(?:www\\.|m\\.|mobile\\.|touch\\.|mbasic\\.)?(?:{facebook}|{instagram}|{twitter})\\/(?!$)(?:(?:\\w)*#!\\/)?(?:pages\\/)?(?:photo\\.php\\?fbid=)?(?:[\\w\\-]*\\/)*?(?:\\/)?(?:profile\\.php\\?id=)?([^\\/?&\\s]*)(?:\\/|&|\\?)?.*$'\n",
    "    if re.search(regex_pattern, url):\n",
    "        options = webdriver.ChromeOptions()\n",
    "        # if you want headless\n",
    "        options.add_argument('headless')         \n",
    "        options.add_argument('--no-sandbox')\n",
    "        options.add_argument('--disable-dev-shm-usage')\n",
    "        driver = webdriver.Chrome(options = options)\n",
    "        driver.get(url)\n",
    "        try: \n",
    "            if re.search(fr'^(?:https?:\\/\\/)?(?:www\\.|m\\.|mobile\\.|touch\\.|mbasic\\.)?(?:{facebook})\\/(?!$)(?:(?:\\w)*#!\\/)?(?:pages\\/)?(?:photo\\.php\\?fbid=)?(?:[\\w\\-]*\\/)*?(?:\\/)?(?:profile\\.php\\?id=)?([^\\/?&\\s]*)(?:\\/|&|\\?)?.*$', url):\n",
    "                elements = driver.find_element_by_xpath('//div[@data-testid=\"post_message\"]').text\n",
    "                platform = 'Facebook'\n",
    "            elif re.search(fr'^(?:https?:\\/\\/)?(?:www\\.|m\\.|mobile\\.|touch\\.|mbasic\\.)?(?:{instagram})\\/(?!$)(?:(?:\\w)*#!\\/)?(?:pages\\/)?(?:photo\\.php\\?fbid=)?(?:[\\w\\-]*\\/)*?(?:\\/)?(?:profile\\.php\\?id=)?([^\\/?&\\s]*)(?:\\/|&|\\?)?.*$', url):\n",
    "                elements = driver.find_element_by_xpath('//*[@id=\"react-root\"]/section/main/div/div/article/div[2]/div[1]/ul/div/li/div/div/div[2]/span').text\n",
    "                platform = 'Instagram'\n",
    "            elif re.search(fr'^(?:https?:\\/\\/)?(?:www\\.|m\\.|mobile\\.|touch\\.|mbasic\\.)?(?:{twittesr})\\/(?!$)(?:(?:\\w)*#!\\/)?(?:pages\\/)?(?:photo\\.php\\?fbid=)?(?:[\\w\\-]*\\/)*?(?:\\/)?(?:profile\\.php\\?id=)?([^\\/?&\\s]*)(?:\\/|&|\\?)?.*$', url):\n",
    "                time.sleep(4) #TODO: Use Wait instead of an arbitary sleep function\n",
    "                elements = driver.find_element_by_xpath('//*[@id=\"react-root\"]/div/div/div[2]/main/div/div/div/div[1]/div/div/div/section/div/div/div[1]/div/div/div/div/article/div/div[3]/div[1]/div/span/text').text\n",
    "                platform = 'Twitter'\n",
    "            contents[\"text\"] = elements.replace('\\n',' ')\n",
    "            contents[\"platform\"] = platform      \n",
    "        except Exception as e: print(e)\n",
    "            contents[\"text\"] = 'Invalid platform link!'\n",
    "        # End session\n",
    "        finally:\n",
    "            driver.quit()\n",
    "    else:\n",
    "        contents[\"text\"] = 'The URL is currently not supported!'\n",
    "    return contents\n",
    "\n"
   ]
  },
  {
   "cell_type": "code",
   "execution_count": null,
   "metadata": {},
   "outputs": [],
   "source": []
  }
 ],
 "metadata": {
  "kernelspec": {
   "display_name": "Python 3",
   "language": "python",
   "name": "python3"
  },
  "language_info": {
   "codemirror_mode": {
    "name": "ipython",
    "version": 3
   },
   "file_extension": ".py",
   "mimetype": "text/x-python",
   "name": "python",
   "nbconvert_exporter": "python",
   "pygments_lexer": "ipython3",
   "version": "3.8.2"
  }
 },
 "nbformat": 4,
 "nbformat_minor": 4
}
