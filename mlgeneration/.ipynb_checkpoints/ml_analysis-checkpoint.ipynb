{
 "cells": [
  {
   "cell_type": "code",
   "execution_count": 1,
   "metadata": {},
   "outputs": [
    {
     "name": "stderr",
     "output_type": "stream",
     "text": [
      "Using TensorFlow backend.\n"
     ]
    }
   ],
   "source": [
    "import pandas as pd\n",
    "import numpy as np\n",
    "import seaborn as sns\n",
    "import matplotlib.pyplot as plt\n",
    "\n",
    "from sklearn.utils import shuffle\n",
    "from sklearn.feature_extraction.text import CountVectorizer\n",
    "from sklearn import feature_extraction, linear_model, model_selection, preprocessing\n",
    "from sklearn.metrics import accuracy_score\n",
    "from sklearn.model_selection import train_test_split\n",
    "from sklearn.feature_extraction.text import TfidfTransformer\n",
    "from sklearn.pipeline import Pipeline\n",
    "from sklearn.svm import LinearSVC\n",
    "from sklearn.linear_model import LogisticRegression\n",
    "from sklearn.naive_bayes import GaussianNB\n",
    "from sklearn.naive_bayes import BernoulliNB\n",
    "from sklearn.naive_bayes import MultinomialNB\n",
    "from sklearn.naive_bayes import MultinomialNB\n",
    "\n",
    "from sklearn.ensemble import GradientBoostingClassifier\n",
    "from sklearn.tree import DecisionTreeClassifier\n",
    "from sklearn.neighbors import KNeighborsClassifier\n",
    "from xgboost import XGBClassifier\n",
    "from sklearn.linear_model import SGDClassifier\n",
    "from sklearn.ensemble import RandomForestClassifier\n",
    "from sklearn.preprocessing import LabelEncoder\n",
    "from sklearn.gaussian_process import GaussianProcessClassifier\n",
    "from keras.models import Model\n",
    "from keras.layers import LSTM, Activation, Dense, Dropout, Input, Embedding\n",
    "from keras.optimizers import RMSprop\n",
    "from keras.preprocessing.text import Tokenizer\n",
    "from keras.preprocessing import sequence\n",
    "from keras.preprocessing.sequence import pad_sequences\n",
    "from keras.callbacks import EarlyStopping\n",
    "\n",
    "from sklearn.metrics import accuracy_score, confusion_matrix,classification_report\n",
    "\n",
    "import glob \n",
    "\n",
    "import nltk\n",
    "from nltk.corpus import stopwords\n",
    "import nltk as nlp\n",
    "import string\n",
    "import re\n",
    "\n",
    "from IPython.core.interactiveshell import InteractiveShell\n",
    "InteractiveShell.ast_node_interactivity = \"all\""
   ]
  },
  {
   "cell_type": "code",
   "execution_count": 2,
   "metadata": {},
   "outputs": [],
   "source": [
    "# Long form news [fake/real]\n",
    "fake = pd.read_csv('./news/Fake.csv')\n",
    "real = pd.read_csv('./news/True.csv')\n",
    "fake['target'] = 'fake'\n",
    "real['target'] = 'true'"
   ]
  },
  {
   "cell_type": "code",
   "execution_count": 3,
   "metadata": {},
   "outputs": [
    {
     "data": {
      "text/html": [
       "<div>\n",
       "<style scoped>\n",
       "    .dataframe tbody tr th:only-of-type {\n",
       "        vertical-align: middle;\n",
       "    }\n",
       "\n",
       "    .dataframe tbody tr th {\n",
       "        vertical-align: top;\n",
       "    }\n",
       "\n",
       "    .dataframe thead th {\n",
       "        text-align: right;\n",
       "    }\n",
       "</style>\n",
       "<table border=\"1\" class=\"dataframe\">\n",
       "  <thead>\n",
       "    <tr style=\"text-align: right;\">\n",
       "      <th></th>\n",
       "      <th>title</th>\n",
       "      <th>text</th>\n",
       "      <th>subject</th>\n",
       "      <th>date</th>\n",
       "      <th>target</th>\n",
       "    </tr>\n",
       "  </thead>\n",
       "  <tbody>\n",
       "    <tr>\n",
       "      <th>0</th>\n",
       "      <td>Donald Trump Sends Out Embarrassing New Year’...</td>\n",
       "      <td>Donald Trump just couldn t wish all Americans ...</td>\n",
       "      <td>News</td>\n",
       "      <td>December 31, 2017</td>\n",
       "      <td>fake</td>\n",
       "    </tr>\n",
       "    <tr>\n",
       "      <th>1</th>\n",
       "      <td>Drunk Bragging Trump Staffer Started Russian ...</td>\n",
       "      <td>House Intelligence Committee Chairman Devin Nu...</td>\n",
       "      <td>News</td>\n",
       "      <td>December 31, 2017</td>\n",
       "      <td>fake</td>\n",
       "    </tr>\n",
       "    <tr>\n",
       "      <th>2</th>\n",
       "      <td>Sheriff David Clarke Becomes An Internet Joke...</td>\n",
       "      <td>On Friday, it was revealed that former Milwauk...</td>\n",
       "      <td>News</td>\n",
       "      <td>December 30, 2017</td>\n",
       "      <td>fake</td>\n",
       "    </tr>\n",
       "    <tr>\n",
       "      <th>3</th>\n",
       "      <td>Trump Is So Obsessed He Even Has Obama’s Name...</td>\n",
       "      <td>On Christmas day, Donald Trump announced that ...</td>\n",
       "      <td>News</td>\n",
       "      <td>December 29, 2017</td>\n",
       "      <td>fake</td>\n",
       "    </tr>\n",
       "    <tr>\n",
       "      <th>4</th>\n",
       "      <td>Pope Francis Just Called Out Donald Trump Dur...</td>\n",
       "      <td>Pope Francis used his annual Christmas Day mes...</td>\n",
       "      <td>News</td>\n",
       "      <td>December 25, 2017</td>\n",
       "      <td>fake</td>\n",
       "    </tr>\n",
       "  </tbody>\n",
       "</table>\n",
       "</div>"
      ],
      "text/plain": [
       "                                               title  \\\n",
       "0   Donald Trump Sends Out Embarrassing New Year’...   \n",
       "1   Drunk Bragging Trump Staffer Started Russian ...   \n",
       "2   Sheriff David Clarke Becomes An Internet Joke...   \n",
       "3   Trump Is So Obsessed He Even Has Obama’s Name...   \n",
       "4   Pope Francis Just Called Out Donald Trump Dur...   \n",
       "\n",
       "                                                text subject  \\\n",
       "0  Donald Trump just couldn t wish all Americans ...    News   \n",
       "1  House Intelligence Committee Chairman Devin Nu...    News   \n",
       "2  On Friday, it was revealed that former Milwauk...    News   \n",
       "3  On Christmas day, Donald Trump announced that ...    News   \n",
       "4  Pope Francis used his annual Christmas Day mes...    News   \n",
       "\n",
       "                date target  \n",
       "0  December 31, 2017   fake  \n",
       "1  December 31, 2017   fake  \n",
       "2  December 30, 2017   fake  \n",
       "3  December 29, 2017   fake  \n",
       "4  December 25, 2017   fake  "
      ]
     },
     "execution_count": 3,
     "metadata": {},
     "output_type": "execute_result"
    }
   ],
   "source": [
    "fake.head()"
   ]
  },
  {
   "cell_type": "code",
   "execution_count": 4,
   "metadata": {},
   "outputs": [
    {
     "data": {
      "text/plain": [
       "<matplotlib.axes._subplots.AxesSubplot at 0x2db71b08>"
      ]
     },
     "execution_count": 4,
     "metadata": {},
     "output_type": "execute_result"
    },
    {
     "data": {
      "image/png": "[encoded data removed]",
      "text/plain": [
       "<Figure size 432x288 with 1 Axes>"
      ]
     },
     "metadata": {
      "needs_background": "light"
     },
     "output_type": "display_data"
    }
   ],
   "source": [
    "# Rumour specific \n",
    "emergent = pd.read_csv('./news/rumours/emergent.csv')\n",
    "emergent[\"claim\"] = emergent[\"claim\"].str[6]\n",
    "emergent[\"claim_label\"].hist()"
   ]
  },
  {
   "cell_type": "code",
   "execution_count": 5,
   "metadata": {},
   "outputs": [
    {
     "data": {
      "text/plain": [
       "<matplotlib.axes._subplots.AxesSubplot at 0x2dd7b1c8>"
      ]
     },
     "execution_count": 5,
     "metadata": {},
     "output_type": "execute_result"
    },
    {
     "data": {
      "image/png": "[encoded data removed]",
      "text/plain": [
       "<Figure size 432x288 with 1 Axes>"
      ]
     },
     "metadata": {
      "needs_background": "light"
     },
     "output_type": "display_data"
    }
   ],
   "source": [
    "politifact = pd.read_csv('./news/rumours/politifact.csv')\n",
    "politifact[\"claim_label\"].hist()"
   ]
  },
  {
   "cell_type": "code",
   "execution_count": 6,
   "metadata": {},
   "outputs": [
    {
     "data": {
      "text/plain": [
       "<matplotlib.axes._subplots.AxesSubplot at 0x2de121c8>"
      ]
     },
     "execution_count": 6,
     "metadata": {},
     "output_type": "execute_result"
    },
    {
     "data": {
      "image/png": "[encoded data removed]",
      "text/plain": [
       "<Figure size 432x288 with 1 Axes>"
      ]
     },
     "metadata": {
      "needs_background": "light"
     },
     "output_type": "display_data"
    }
   ],
   "source": [
    "politifact[\"claim_label\"].replace(to_replace = ['pants-fire', 'false'], value = 'FALSE', inplace = True)\n",
    "politifact[\"claim_label\"].replace(to_replace = ['mostly-true', 'barely-true', 'true'], value = 'TRUE', inplace = True)\n",
    "politifact = politifact[~politifact[\"claim_label\"].str.contains('half-true')] # Remove half-truths\n",
    "politifact[\"claim_label\"].hist()"
   ]
  },
  {
   "cell_type": "code",
   "execution_count": 7,
   "metadata": {},
   "outputs": [
    {
     "data": {
      "text/plain": [
       "<matplotlib.axes._subplots.AxesSubplot at 0x2e197ec8>"
      ]
     },
     "execution_count": 7,
     "metadata": {},
     "output_type": "execute_result"
    },
    {
     "data": {
      "image/png": "[encoded data removed]",
      "text/plain": [
       "<Figure size 432x288 with 1 Axes>"
      ]
     },
     "metadata": {
      "needs_background": "light"
     },
     "output_type": "display_data"
    }
   ],
   "source": [
    "snopes = pd.read_csv('./news/rumours/snopes.csv')\n",
    "snopes[\"claim_label\"].hist()"
   ]
  },
  {
   "cell_type": "code",
   "execution_count": 8,
   "metadata": {},
   "outputs": [
    {
     "data": {
      "text/plain": [
       "<matplotlib.axes._subplots.AxesSubplot at 0x2e378348>"
      ]
     },
     "execution_count": 8,
     "metadata": {},
     "output_type": "execute_result"
    },
    {
     "data": {
      "image/png": "[encoded data removed]",
      "text/plain": [
       "<Figure size 432x288 with 1 Axes>"
      ]
     },
     "metadata": {
      "needs_background": "light"
     },
     "output_type": "display_data"
    }
   ],
   "source": [
    "snopes[\"claim_label\"].replace(to_replace = ['mfalse', 'false'], value = 'FALSE', inplace = True)\n",
    "snopes[\"claim_label\"].replace(to_replace = ['true', 'mtrue'], value = 'TRUE', inplace = True)\n",
    "snopes = snopes[snopes[\"claim_label\"].str.contains('TRUE|FALSE', regex = True)] # Take only truth and false\n",
    "snopes[\"claim_label\"].hist()"
   ]
  },
  {
   "cell_type": "code",
   "execution_count": 9,
   "metadata": {},
   "outputs": [
    {
     "data": {
      "text/plain": [
       "<matplotlib.axes._subplots.AxesSubplot at 0x2e3d8788>"
      ]
     },
     "execution_count": 9,
     "metadata": {},
     "output_type": "execute_result"
    },
    {
     "data": {
      "image/png": "[encoded data removed]",
      "text/plain": [
       "<Figure size 432x288 with 1 Axes>"
      ]
     },
     "metadata": {
      "needs_background": "light"
     },
     "output_type": "display_data"
    }
   ],
   "source": [
    "full_rumour_sites = pd.concat([emergent, politifact, snopes]).filter([\"claim\", \"claim_description\", \"claim_label\"])\n",
    "# Convert to fake / real\n",
    "full_rumour_sites[\"claim_label\"].replace(to_replace = ['TRUE'], value = 'true', inplace = True)\n",
    "full_rumour_sites[\"claim_label\"].replace(to_replace = ['FALSE'], value = 'fake', inplace = True)\n",
    "full_rumour_sites[\"claim_label\"].hist()\n",
    "# Combine columns\n",
    "full_rumour_sites[\"text\"] = (full_rumour_sites['claim'].fillna('') + '_' + full_rumour_sites['claim_description'].fillna('')).str.strip('_')\n",
    "full_rumour_sites = full_rumour_sites[[\"text\", \"claim_label\"]]\n",
    "full_rumour_sites.rename(columns = {'claim_label': 'target'}, inplace = True)"
   ]
  },
  {
   "cell_type": "code",
   "execution_count": 10,
   "metadata": {},
   "outputs": [
    {
     "data": {
      "text/plain": [
       "<matplotlib.axes._subplots.AxesSubplot at 0x3160cc48>"
      ]
     },
     "execution_count": 10,
     "metadata": {},
     "output_type": "execute_result"
    },
    {
     "data": {
      "text/html": [
       "<div>\n",
       "<style scoped>\n",
       "    .dataframe tbody tr th:only-of-type {\n",
       "        vertical-align: middle;\n",
       "    }\n",
       "\n",
       "    .dataframe tbody tr th {\n",
       "        vertical-align: top;\n",
       "    }\n",
       "\n",
       "    .dataframe thead th {\n",
       "        text-align: right;\n",
       "    }\n",
       "</style>\n",
       "<table border=\"1\" class=\"dataframe\">\n",
       "  <thead>\n",
       "    <tr style=\"text-align: right;\">\n",
       "      <th></th>\n",
       "      <th>text</th>\n",
       "      <th>target</th>\n",
       "    </tr>\n",
       "  </thead>\n",
       "  <tbody>\n",
       "    <tr>\n",
       "      <th>16860</th>\n",
       "      <td>Photographs show a border fence between the co...</td>\n",
       "      <td>fake</td>\n",
       "    </tr>\n",
       "    <tr>\n",
       "      <th>16861</th>\n",
       "      <td>Photographs show a border fence between the co...</td>\n",
       "      <td>fake</td>\n",
       "    </tr>\n",
       "    <tr>\n",
       "      <th>16862</th>\n",
       "      <td>Photographs show a border fence between the co...</td>\n",
       "      <td>fake</td>\n",
       "    </tr>\n",
       "    <tr>\n",
       "      <th>16863</th>\n",
       "      <td>Photographs show a border fence between the co...</td>\n",
       "      <td>fake</td>\n",
       "    </tr>\n",
       "    <tr>\n",
       "      <th>16864</th>\n",
       "      <td>Photographs show a border fence between the co...</td>\n",
       "      <td>fake</td>\n",
       "    </tr>\n",
       "  </tbody>\n",
       "</table>\n",
       "</div>"
      ],
      "text/plain": [
       "                                                    text target\n",
       "16860  Photographs show a border fence between the co...   fake\n",
       "16861  Photographs show a border fence between the co...   fake\n",
       "16862  Photographs show a border fence between the co...   fake\n",
       "16863  Photographs show a border fence between the co...   fake\n",
       "16864  Photographs show a border fence between the co...   fake"
      ]
     },
     "execution_count": 10,
     "metadata": {},
     "output_type": "execute_result"
    },
    {
     "data": {
      "image/png": "[encoded data removed]",
      "text/plain": [
       "<Figure size 432x288 with 1 Axes>"
      ]
     },
     "metadata": {
      "needs_background": "light"
     },
     "output_type": "display_data"
    }
   ],
   "source": [
    "full_rumour_sites.dropna(inplace = True)\n",
    "full_rumour_sites['target'].hist()\n",
    "full_rumour_sites.tail()"
   ]
  },
  {
   "cell_type": "code",
   "execution_count": 11,
   "metadata": {},
   "outputs": [],
   "source": [
    "# Add in the newly emerged rumour dataset on twitter: https://zenodo.org/record/2563864\n",
    "path = r'./news/rumours/newly_emerged'\n",
    "all_files = glob.glob(path + \"/*.xlsx\")\n",
    "li = []\n",
    "\n",
    "for file in all_files:\n",
    "    df = pd.read_excel(file, index_col=None, header=0)\n",
    "    li.append(df)\n",
    "\n",
    "newly_emerged = pd.concat(li, axis=0, ignore_index=True)"
   ]
  },
  {
   "cell_type": "code",
   "execution_count": 12,
   "metadata": {},
   "outputs": [
    {
     "data": {
      "text/html": [
       "<div>\n",
       "<style scoped>\n",
       "    .dataframe tbody tr th:only-of-type {\n",
       "        vertical-align: middle;\n",
       "    }\n",
       "\n",
       "    .dataframe tbody tr th {\n",
       "        vertical-align: top;\n",
       "    }\n",
       "\n",
       "    .dataframe thead th {\n",
       "        text-align: right;\n",
       "    }\n",
       "</style>\n",
       "<table border=\"1\" class=\"dataframe\">\n",
       "  <thead>\n",
       "    <tr style=\"text-align: right;\">\n",
       "      <th></th>\n",
       "      <th>ID</th>\n",
       "      <th>Description</th>\n",
       "      <th>#Tweets</th>\n",
       "      <th>Date_time_creation_account</th>\n",
       "      <th>Language</th>\n",
       "      <th>#Followers</th>\n",
       "      <th>#Friends</th>\n",
       "      <th>Date&amp;Time</th>\n",
       "      <th>#Favorite</th>\n",
       "      <th>#Retweet</th>\n",
       "      <th>Another Tweet Inside</th>\n",
       "      <th>Source</th>\n",
       "      <th>Tweet ID</th>\n",
       "      <th>Retweet ID</th>\n",
       "      <th>Quote ID</th>\n",
       "      <th>Reply ID</th>\n",
       "      <th>Frequency of tweet occurrences</th>\n",
       "      <th>State of Tweet</th>\n",
       "    </tr>\n",
       "  </thead>\n",
       "  <tbody>\n",
       "    <tr>\n",
       "      <th>0</th>\n",
       "      <td>2752994783</td>\n",
       "      <td>// Kirby// they/them // 20 // ENG: ok // FR: ok</td>\n",
       "      <td>2822</td>\n",
       "      <td>2014 , Aug , 28 , 01:49:22</td>\n",
       "      <td>en</td>\n",
       "      <td>34</td>\n",
       "      <td>68</td>\n",
       "      <td>['2017', 'Dec', '15', '15:42:41']</td>\n",
       "      <td>0</td>\n",
       "      <td>250</td>\n",
       "      <td>0</td>\n",
       "      <td>iPhone</td>\n",
       "      <td>941695012122910720</td>\n",
       "      <td>940977667104477185</td>\n",
       "      <td>Not a quote</td>\n",
       "      <td>None</td>\n",
       "      <td>213.0</td>\n",
       "      <td>r</td>\n",
       "    </tr>\n",
       "    <tr>\n",
       "      <th>1</th>\n",
       "      <td>21571977</td>\n",
       "      <td>Follow us for the latest headlines across the ...</td>\n",
       "      <td>3085</td>\n",
       "      <td>2009 , Feb , 22 , 15:32:48</td>\n",
       "      <td>en</td>\n",
       "      <td>21083</td>\n",
       "      <td>31</td>\n",
       "      <td>['2017', 'Dec', '15', '15:37:51']</td>\n",
       "      <td>0</td>\n",
       "      <td>0</td>\n",
       "      <td>0</td>\n",
       "      <td>iPhone</td>\n",
       "      <td>941693798056280064</td>\n",
       "      <td>Not a Retweet</td>\n",
       "      <td>Not a quote</td>\n",
       "      <td>None</td>\n",
       "      <td>1</td>\n",
       "      <td>n</td>\n",
       "    </tr>\n",
       "    <tr>\n",
       "      <th>2</th>\n",
       "      <td>3382041618</td>\n",
       "      <td>Growing minds... Changing lives.</td>\n",
       "      <td>46</td>\n",
       "      <td>2015 , Aug , 29 , 13:45:01</td>\n",
       "      <td>en</td>\n",
       "      <td>82</td>\n",
       "      <td>68</td>\n",
       "      <td>['2017', 'Dec', '15', '15:37:37']</td>\n",
       "      <td>0</td>\n",
       "      <td>0</td>\n",
       "      <td>0</td>\n",
       "      <td>iPhone</td>\n",
       "      <td>941693735678758912</td>\n",
       "      <td>Not a Retweet</td>\n",
       "      <td>Not a quote</td>\n",
       "      <td>None</td>\n",
       "      <td>1</td>\n",
       "      <td>n</td>\n",
       "    </tr>\n",
       "    <tr>\n",
       "      <th>3</th>\n",
       "      <td>348478568</td>\n",
       "      <td>NaN</td>\n",
       "      <td>2007</td>\n",
       "      <td>2011 , Aug , 04 , 14:08:52</td>\n",
       "      <td>en</td>\n",
       "      <td>26</td>\n",
       "      <td>270</td>\n",
       "      <td>['2017', 'Dec', '15', '15:37:16']</td>\n",
       "      <td>0</td>\n",
       "      <td>0</td>\n",
       "      <td>0</td>\n",
       "      <td>Client</td>\n",
       "      <td>941693648634372097</td>\n",
       "      <td>Not a Retweet</td>\n",
       "      <td>Not a quote</td>\n",
       "      <td>None</td>\n",
       "      <td>1</td>\n",
       "      <td>n</td>\n",
       "    </tr>\n",
       "    <tr>\n",
       "      <th>4</th>\n",
       "      <td>724097168152367104</td>\n",
       "      <td>One does not simply un-FeelTheBern! 🔥</td>\n",
       "      <td>13050</td>\n",
       "      <td>2016 , Apr , 24 , 04:46:32</td>\n",
       "      <td>en</td>\n",
       "      <td>166</td>\n",
       "      <td>287</td>\n",
       "      <td>['2017', 'Dec', '15', '15:35:34']</td>\n",
       "      <td>0</td>\n",
       "      <td>151</td>\n",
       "      <td>0</td>\n",
       "      <td>iPhone</td>\n",
       "      <td>941693221704536064</td>\n",
       "      <td>941044904742006786</td>\n",
       "      <td>Not a quote</td>\n",
       "      <td>None</td>\n",
       "      <td>140.0</td>\n",
       "      <td>a</td>\n",
       "    </tr>\n",
       "  </tbody>\n",
       "</table>\n",
       "</div>"
      ],
      "text/plain": [
       "                   ID                                        Description  \\\n",
       "0          2752994783    // Kirby// they/them // 20 // ENG: ok // FR: ok   \n",
       "1            21571977  Follow us for the latest headlines across the ...   \n",
       "2          3382041618                   Growing minds... Changing lives.   \n",
       "3           348478568                                                NaN   \n",
       "4  724097168152367104              One does not simply un-FeelTheBern! 🔥   \n",
       "\n",
       "   #Tweets  Date_time_creation_account Language  #Followers  #Friends  \\\n",
       "0     2822  2014 , Aug , 28 , 01:49:22       en          34        68   \n",
       "1     3085  2009 , Feb , 22 , 15:32:48       en       21083        31   \n",
       "2       46  2015 , Aug , 29 , 13:45:01       en          82        68   \n",
       "3     2007  2011 , Aug , 04 , 14:08:52       en          26       270   \n",
       "4    13050  2016 , Apr , 24 , 04:46:32       en         166       287   \n",
       "\n",
       "                           Date&Time  #Favorite  #Retweet  \\\n",
       "0  ['2017', 'Dec', '15', '15:42:41']          0       250   \n",
       "1  ['2017', 'Dec', '15', '15:37:51']          0         0   \n",
       "2  ['2017', 'Dec', '15', '15:37:37']          0         0   \n",
       "3  ['2017', 'Dec', '15', '15:37:16']          0         0   \n",
       "4  ['2017', 'Dec', '15', '15:35:34']          0       151   \n",
       "\n",
       "   Another Tweet Inside  Source            Tweet ID          Retweet ID  \\\n",
       "0                     0  iPhone  941695012122910720  940977667104477185   \n",
       "1                     0  iPhone  941693798056280064       Not a Retweet   \n",
       "2                     0  iPhone  941693735678758912       Not a Retweet   \n",
       "3                     0  Client  941693648634372097       Not a Retweet   \n",
       "4                     0  iPhone  941693221704536064  941044904742006786   \n",
       "\n",
       "      Quote ID Reply ID Frequency of tweet occurrences State of Tweet  \n",
       "0  Not a quote     None                          213.0              r  \n",
       "1  Not a quote     None                              1              n  \n",
       "2  Not a quote     None                              1              n  \n",
       "3  Not a quote     None                              1              n  \n",
       "4  Not a quote     None                          140.0              a  "
      ]
     },
     "execution_count": 12,
     "metadata": {},
     "output_type": "execute_result"
    },
    {
     "data": {
      "text/plain": [
       "<matplotlib.axes._subplots.AxesSubplot at 0x3bd61a88>"
      ]
     },
     "execution_count": 12,
     "metadata": {},
     "output_type": "execute_result"
    },
    {
     "data": {
      "image/png": "[encoded data removed]",
      "text/plain": [
       "<Figure size 432x288 with 1 Axes>"
      ]
     },
     "metadata": {
      "needs_background": "light"
     },
     "output_type": "display_data"
    }
   ],
   "source": [
    "newly_emerged.head()\n",
    "newly_emerged = newly_emerged[[\"Description\", \"State of Tweet\"]]\n",
    "newly_emerged[\"State of Tweet\"].hist()"
   ]
  },
  {
   "cell_type": "code",
   "execution_count": 13,
   "metadata": {},
   "outputs": [],
   "source": [
    "newly_emerged[\"State of Tweet\"].replace(to_replace = ['r'], value = 'fake', inplace = True)\n",
    "newly_emerged[\"State of Tweet\"].replace(to_replace = ['n'], value = 'true', inplace = True)\n",
    "newly_emerged[\"State of Tweet\"].replace(to_replace = ['q'], value = 'Unverified', inplace = True)"
   ]
  },
  {
   "cell_type": "code",
   "execution_count": 14,
   "metadata": {},
   "outputs": [
    {
     "data": {
      "text/plain": [
       "<matplotlib.axes._subplots.AxesSubplot at 0x390b0208>"
      ]
     },
     "execution_count": 14,
     "metadata": {},
     "output_type": "execute_result"
    },
    {
     "data": {
      "image/png": "[encoded data removed]",
      "text/plain": [
       "<Figure size 432x288 with 1 Axes>"
      ]
     },
     "metadata": {
      "needs_background": "light"
     },
     "output_type": "display_data"
    }
   ],
   "source": [
    "newly_emerged = newly_emerged[newly_emerged[\"State of Tweet\"].str.contains('true|fake|Unverified', regex = True)]\n",
    "newly_emerged[\"State of Tweet\"].hist()"
   ]
  },
  {
   "cell_type": "code",
   "execution_count": 15,
   "metadata": {},
   "outputs": [
    {
     "data": {
      "text/html": [
       "<div>\n",
       "<style scoped>\n",
       "    .dataframe tbody tr th:only-of-type {\n",
       "        vertical-align: middle;\n",
       "    }\n",
       "\n",
       "    .dataframe tbody tr th {\n",
       "        vertical-align: top;\n",
       "    }\n",
       "\n",
       "    .dataframe thead th {\n",
       "        text-align: right;\n",
       "    }\n",
       "</style>\n",
       "<table border=\"1\" class=\"dataframe\">\n",
       "  <thead>\n",
       "    <tr style=\"text-align: right;\">\n",
       "      <th></th>\n",
       "      <th>text</th>\n",
       "      <th>target</th>\n",
       "    </tr>\n",
       "  </thead>\n",
       "  <tbody>\n",
       "    <tr>\n",
       "      <th>0</th>\n",
       "      <td>// Kirby// they/them // 20 // ENG: ok // FR: ok</td>\n",
       "      <td>fake</td>\n",
       "    </tr>\n",
       "    <tr>\n",
       "      <th>1</th>\n",
       "      <td>Follow us for the latest headlines across the ...</td>\n",
       "      <td>true</td>\n",
       "    </tr>\n",
       "    <tr>\n",
       "      <th>2</th>\n",
       "      <td>Growing minds... Changing lives.</td>\n",
       "      <td>true</td>\n",
       "    </tr>\n",
       "    <tr>\n",
       "      <th>3</th>\n",
       "      <td>NaN</td>\n",
       "      <td>true</td>\n",
       "    </tr>\n",
       "    <tr>\n",
       "      <th>5</th>\n",
       "      <td>NaN</td>\n",
       "      <td>true</td>\n",
       "    </tr>\n",
       "  </tbody>\n",
       "</table>\n",
       "</div>"
      ],
      "text/plain": [
       "                                                text target\n",
       "0    // Kirby// they/them // 20 // ENG: ok // FR: ok   fake\n",
       "1  Follow us for the latest headlines across the ...   true\n",
       "2                   Growing minds... Changing lives.   true\n",
       "3                                                NaN   true\n",
       "5                                                NaN   true"
      ]
     },
     "execution_count": 15,
     "metadata": {},
     "output_type": "execute_result"
    }
   ],
   "source": [
    "newly_emerged.rename(columns = {'Description': 'text', 'State of Tweet': 'target'}, inplace = True)\n",
    "newly_emerged.head()"
   ]
  },
  {
   "cell_type": "code",
   "execution_count": 16,
   "metadata": {},
   "outputs": [],
   "source": [
    "newly_emerged.dropna(inplace = True)"
   ]
  },
  {
   "cell_type": "code",
   "execution_count": 17,
   "metadata": {},
   "outputs": [
    {
     "data": {
      "text/html": [
       "<div>\n",
       "<style scoped>\n",
       "    .dataframe tbody tr th:only-of-type {\n",
       "        vertical-align: middle;\n",
       "    }\n",
       "\n",
       "    .dataframe tbody tr th {\n",
       "        vertical-align: top;\n",
       "    }\n",
       "\n",
       "    .dataframe thead th {\n",
       "        text-align: right;\n",
       "    }\n",
       "</style>\n",
       "<table border=\"1\" class=\"dataframe\">\n",
       "  <thead>\n",
       "    <tr style=\"text-align: right;\">\n",
       "      <th></th>\n",
       "      <th>text</th>\n",
       "      <th>target</th>\n",
       "    </tr>\n",
       "  </thead>\n",
       "  <tbody>\n",
       "    <tr>\n",
       "      <th>0</th>\n",
       "      <td>// Kirby// they/them // 20 // ENG: ok // FR: ok</td>\n",
       "      <td>fake</td>\n",
       "    </tr>\n",
       "    <tr>\n",
       "      <th>1</th>\n",
       "      <td>Follow us for the latest headlines across the ...</td>\n",
       "      <td>true</td>\n",
       "    </tr>\n",
       "    <tr>\n",
       "      <th>2</th>\n",
       "      <td>Growing minds... Changing lives.</td>\n",
       "      <td>true</td>\n",
       "    </tr>\n",
       "    <tr>\n",
       "      <th>7</th>\n",
       "      <td>Human. Woman. Mother. Wife. Reader. Learner. T...</td>\n",
       "      <td>true</td>\n",
       "    </tr>\n",
       "    <tr>\n",
       "      <th>8</th>\n",
       "      <td>My family call me Winyan Ohmanisa Waste La Ke....</td>\n",
       "      <td>fake</td>\n",
       "    </tr>\n",
       "  </tbody>\n",
       "</table>\n",
       "</div>"
      ],
      "text/plain": [
       "                                                text target\n",
       "0    // Kirby// they/them // 20 // ENG: ok // FR: ok   fake\n",
       "1  Follow us for the latest headlines across the ...   true\n",
       "2                   Growing minds... Changing lives.   true\n",
       "7  Human. Woman. Mother. Wife. Reader. Learner. T...   true\n",
       "8  My family call me Winyan Ohmanisa Waste La Ke....   fake"
      ]
     },
     "execution_count": 17,
     "metadata": {},
     "output_type": "execute_result"
    }
   ],
   "source": [
    "newly_emerged.head()"
   ]
  },
  {
   "cell_type": "code",
   "execution_count": 18,
   "metadata": {},
   "outputs": [
    {
     "data": {
      "text/html": [
       "<div>\n",
       "<style scoped>\n",
       "    .dataframe tbody tr th:only-of-type {\n",
       "        vertical-align: middle;\n",
       "    }\n",
       "\n",
       "    .dataframe tbody tr th {\n",
       "        vertical-align: top;\n",
       "    }\n",
       "\n",
       "    .dataframe thead th {\n",
       "        text-align: right;\n",
       "    }\n",
       "</style>\n",
       "<table border=\"1\" class=\"dataframe\">\n",
       "  <thead>\n",
       "    <tr style=\"text-align: right;\">\n",
       "      <th></th>\n",
       "      <th>Unnamed: 0</th>\n",
       "      <th>text</th>\n",
       "      <th>target</th>\n",
       "    </tr>\n",
       "  </thead>\n",
       "  <tbody>\n",
       "    <tr>\n",
       "      <th>0</th>\n",
       "      <td>0</td>\n",
       "      <td>UOW has improved our place in the QS World Uni...</td>\n",
       "      <td>true</td>\n",
       "    </tr>\n",
       "    <tr>\n",
       "      <th>1</th>\n",
       "      <td>1</td>\n",
       "      <td>\"We had to work hard to get here and be the li...</td>\n",
       "      <td>true</td>\n",
       "    </tr>\n",
       "    <tr>\n",
       "      <th>2</th>\n",
       "      <td>2</td>\n",
       "      <td>“In a lifetime we come across through many peo...</td>\n",
       "      <td>true</td>\n",
       "    </tr>\n",
       "    <tr>\n",
       "      <th>3</th>\n",
       "      <td>3</td>\n",
       "      <td>It’s Sunday, her dad and two younger sisters s...</td>\n",
       "      <td>true</td>\n",
       "    </tr>\n",
       "    <tr>\n",
       "      <th>4</th>\n",
       "      <td>4</td>\n",
       "      <td>This article by UOW's Professor Anthony Dosset...</td>\n",
       "      <td>true</td>\n",
       "    </tr>\n",
       "  </tbody>\n",
       "</table>\n",
       "</div>"
      ],
      "text/plain": [
       "   Unnamed: 0                                               text target\n",
       "0           0  UOW has improved our place in the QS World Uni...   true\n",
       "1           1  \"We had to work hard to get here and be the li...   true\n",
       "2           2  “In a lifetime we come across through many peo...   true\n",
       "3           3  It’s Sunday, her dad and two younger sisters s...   true\n",
       "4           4  This article by UOW's Professor Anthony Dosset...   true"
      ]
     },
     "execution_count": 18,
     "metadata": {},
     "output_type": "execute_result"
    }
   ],
   "source": [
    "path = r'./news/rumours/scraped'\n",
    "all_files = glob.glob(path + \"/*.csv\")\n",
    "li = []\n",
    "\n",
    "for file in all_files:\n",
    "    df = pd.read_csv(file, dtype = {'text': str, 'target' : str})\n",
    "    li.append(df)\n",
    "\n",
    "scraped_fb_twitter = pd.concat(li, axis=0, ignore_index=True)\n",
    "scraped_fb_twitter.drop_duplicates(inplace = True)\n",
    "scraped_fb_twitter.head()"
   ]
  },
  {
   "cell_type": "code",
   "execution_count": 19,
   "metadata": {},
   "outputs": [
    {
     "data": {
      "text/plain": [
       "0       true\n",
       "1       true\n",
       "2       true\n",
       "3       true\n",
       "4       true\n",
       "        ... \n",
       "4393    true\n",
       "4394    true\n",
       "4395    true\n",
       "4396    true\n",
       "4397    true\n",
       "Name: target, Length: 3700, dtype: object"
      ]
     },
     "execution_count": 19,
     "metadata": {},
     "output_type": "execute_result"
    },
    {
     "data": {
      "text/plain": [
       "<matplotlib.axes._subplots.AxesSubplot at 0x385542c8>"
      ]
     },
     "execution_count": 19,
     "metadata": {},
     "output_type": "execute_result"
    },
    {
     "data": {
      "image/png": "[encoded data removed]",
      "text/plain": [
       "<Figure size 432x288 with 1 Axes>"
      ]
     },
     "metadata": {
      "needs_background": "light"
     },
     "output_type": "display_data"
    }
   ],
   "source": [
    "scraped_fb_twitter = scraped_fb_twitter[[\"text\", \"target\"]]\n",
    "scraped_fb_twitter['target'].apply(lambda row: row.lower())\n",
    "scraped_fb_twitter['target'].hist()"
   ]
  },
  {
   "cell_type": "code",
   "execution_count": 20,
   "metadata": {},
   "outputs": [
    {
     "data": {
      "text/html": [
       "<div>\n",
       "<style scoped>\n",
       "    .dataframe tbody tr th:only-of-type {\n",
       "        vertical-align: middle;\n",
       "    }\n",
       "\n",
       "    .dataframe tbody tr th {\n",
       "        vertical-align: top;\n",
       "    }\n",
       "\n",
       "    .dataframe thead th {\n",
       "        text-align: right;\n",
       "    }\n",
       "</style>\n",
       "<table border=\"1\" class=\"dataframe\">\n",
       "  <thead>\n",
       "    <tr style=\"text-align: right;\">\n",
       "      <th></th>\n",
       "      <th>text</th>\n",
       "      <th>target</th>\n",
       "    </tr>\n",
       "  </thead>\n",
       "  <tbody>\n",
       "    <tr>\n",
       "      <th>100593</th>\n",
       "      <td>Taiwanese Director Doze Niu Appeals Against Gu...</td>\n",
       "      <td>true</td>\n",
       "    </tr>\n",
       "    <tr>\n",
       "      <th>100594</th>\n",
       "      <td>South Korean cafe hires robot barista to help ...</td>\n",
       "      <td>true</td>\n",
       "    </tr>\n",
       "    <tr>\n",
       "      <th>100595</th>\n",
       "      <td>Vegan launches healthy version of his childhoo...</td>\n",
       "      <td>true</td>\n",
       "    </tr>\n",
       "    <tr>\n",
       "      <th>100596</th>\n",
       "      <td>What’s the risk of catching coronavirus from a...</td>\n",
       "      <td>true</td>\n",
       "    </tr>\n",
       "    <tr>\n",
       "      <th>100597</th>\n",
       "      <td>Cooked up for climate, UAE's high-tech food pl...</td>\n",
       "      <td>true</td>\n",
       "    </tr>\n",
       "  </tbody>\n",
       "</table>\n",
       "</div>"
      ],
      "text/plain": [
       "                                                     text target\n",
       "100593  Taiwanese Director Doze Niu Appeals Against Gu...   true\n",
       "100594  South Korean cafe hires robot barista to help ...   true\n",
       "100595  Vegan launches healthy version of his childhoo...   true\n",
       "100596  What’s the risk of catching coronavirus from a...   true\n",
       "100597  Cooked up for climate, UAE's high-tech food pl...   true"
      ]
     },
     "execution_count": 20,
     "metadata": {},
     "output_type": "execute_result"
    },
    {
     "data": {
      "text/plain": [
       "<matplotlib.axes._subplots.AxesSubplot at 0x1de56288>"
      ]
     },
     "execution_count": 20,
     "metadata": {},
     "output_type": "execute_result"
    },
    {
     "data": {
      "image/png": "[encoded data removed]",
      "text/plain": [
       "<Figure size 432x288 with 1 Axes>"
      ]
     },
     "metadata": {
      "needs_background": "light"
     },
     "output_type": "display_data"
    }
   ],
   "source": [
    "news = pd.concat([fake, real, full_rumour_sites, newly_emerged, scraped_fb_twitter]).reset_index(drop = True)\n",
    "news = news[['text', 'target']]\n",
    "news.tail()\n",
    "news['target'].hist()"
   ]
  },
  {
   "cell_type": "code",
   "execution_count": 21,
   "metadata": {},
   "outputs": [
    {
     "data": {
      "text/html": [
       "<div>\n",
       "<style scoped>\n",
       "    .dataframe tbody tr th:only-of-type {\n",
       "        vertical-align: middle;\n",
       "    }\n",
       "\n",
       "    .dataframe tbody tr th {\n",
       "        vertical-align: top;\n",
       "    }\n",
       "\n",
       "    .dataframe thead th {\n",
       "        text-align: right;\n",
       "    }\n",
       "</style>\n",
       "<table border=\"1\" class=\"dataframe\">\n",
       "  <thead>\n",
       "    <tr style=\"text-align: right;\">\n",
       "      <th></th>\n",
       "      <th>text</th>\n",
       "      <th>target</th>\n",
       "    </tr>\n",
       "  </thead>\n",
       "  <tbody>\n",
       "    <tr>\n",
       "      <th>0</th>\n",
       "      <td>Donald Trump just couldn t wish all Americans ...</td>\n",
       "      <td>fake</td>\n",
       "    </tr>\n",
       "    <tr>\n",
       "      <th>1</th>\n",
       "      <td>House Intelligence Committee Chairman Devin Nu...</td>\n",
       "      <td>fake</td>\n",
       "    </tr>\n",
       "    <tr>\n",
       "      <th>2</th>\n",
       "      <td>On Friday, it was revealed that former Milwauk...</td>\n",
       "      <td>fake</td>\n",
       "    </tr>\n",
       "    <tr>\n",
       "      <th>3</th>\n",
       "      <td>On Christmas day, Donald Trump announced that ...</td>\n",
       "      <td>fake</td>\n",
       "    </tr>\n",
       "    <tr>\n",
       "      <th>4</th>\n",
       "      <td>Pope Francis used his annual Christmas Day mes...</td>\n",
       "      <td>fake</td>\n",
       "    </tr>\n",
       "  </tbody>\n",
       "</table>\n",
       "</div>"
      ],
      "text/plain": [
       "                                                text target\n",
       "0  Donald Trump just couldn t wish all Americans ...   fake\n",
       "1  House Intelligence Committee Chairman Devin Nu...   fake\n",
       "2  On Friday, it was revealed that former Milwauk...   fake\n",
       "3  On Christmas day, Donald Trump announced that ...   fake\n",
       "4  Pope Francis used his annual Christmas Day mes...   fake"
      ]
     },
     "execution_count": 21,
     "metadata": {},
     "output_type": "execute_result"
    }
   ],
   "source": [
    "news = news[~news['target'].str.contains(\"Unverified\")] #Remove unverified\n",
    "news.head()"
   ]
  },
  {
   "cell_type": "code",
   "execution_count": 22,
   "metadata": {},
   "outputs": [
    {
     "name": "stderr",
     "output_type": "stream",
     "text": [
      "[nltk_data] Downloading package stopwords to\n",
      "[nltk_data]     C:\\Users\\resuu\\AppData\\Roaming\\nltk_data...\n",
      "[nltk_data]   Package stopwords is already up-to-date!\n"
     ]
    },
    {
     "data": {
      "text/plain": [
       "True"
      ]
     },
     "execution_count": 22,
     "metadata": {},
     "output_type": "execute_result"
    }
   ],
   "source": [
    "REPLACE_BY_SPACE_RE = re.compile('[/(){}\\[\\]\\|@,;]')\n",
    "BAD_SYMBOLS_RE = re.compile('[^0-9a-z #+_]')\n",
    "nltk.download('stopwords')\n",
    "STOPWORDS = set(stopwords.words('english'))\n",
    "def clean_text(text):\n",
    "    \"\"\"\n",
    "        text: a string\n",
    "        \n",
    "        return: modified initial string\n",
    "    \"\"\"\n",
    "    text = text.lower() # lowercase text\n",
    "    text = REPLACE_BY_SPACE_RE.sub(' ', text) # replace REPLACE_BY_SPACE_RE symbols by space in text. substitute the matched string in REPLACE_BY_SPACE_RE with space.\n",
    "    text = BAD_SYMBOLS_RE.sub('', text) # remove symbols which are in BAD_SYMBOLS_RE from text. substitute the matched string in BAD_SYMBOLS_RE with nothing. \n",
    "    text = text.replace('x', '')\n",
    "#    text = re.sub(r'\\W+', '', text)\n",
    "    text = ' '.join(word for word in text.split() if word not in STOPWORDS) # remove stopwors from text\n",
    "    return text"
   ]
  },
  {
   "cell_type": "code",
   "execution_count": 23,
   "metadata": {},
   "outputs": [
    {
     "data": {
      "text/plain": [
       "68494                                                thing\n",
       "89004    much clout bootleg club penguin account billy ...\n",
       "36287    co bazar reuters dawn hues pink purple reveal ...\n",
       "33441    new york reuters jpmorgan chase co lambasted d...\n",
       "38280    reuters zimbabwe military action takeover gove...\n",
       "Name: text, dtype: object"
      ]
     },
     "execution_count": 23,
     "metadata": {},
     "output_type": "execute_result"
    },
    {
     "data": {
      "text/plain": [
       "<matplotlib.axes._subplots.AxesSubplot at 0x3c14d048>"
      ]
     },
     "execution_count": 23,
     "metadata": {},
     "output_type": "execute_result"
    },
    {
     "data": {
      "image/png": "[encoded data removed]",
      "text/plain": [
       "<Figure size 432x288 with 1 Axes>"
      ]
     },
     "metadata": {
      "needs_background": "light"
     },
     "output_type": "display_data"
    }
   ],
   "source": [
    "news = shuffle(news)\n",
    "news[\"text\"] = news[\"text\"].apply(lambda row: clean_text(str(row)))\n",
    "news['text'].head()\n",
    "news[\"target\"].hist()"
   ]
  },
  {
   "cell_type": "code",
   "execution_count": 24,
   "metadata": {},
   "outputs": [
    {
     "data": {
      "text/plain": [
       "true    27848\n",
       "fake    27848\n",
       "Name: target, dtype: int64"
      ]
     },
     "execution_count": 24,
     "metadata": {},
     "output_type": "execute_result"
    }
   ],
   "source": [
    "# Need to oversample since the classes are imbalanced.\n",
    "x_train,x_test,y_train,y_test = train_test_split(news['text'], news.target, test_size=0.2, random_state= 420)\n",
    "\n",
    "#Add back training dataset\n",
    "X = pd.concat([x_train, y_train], axis = 1)\n",
    "\n",
    "#Separate minority / majority classes\n",
    "_true = X[X.target == 'true']\n",
    "_fake = X[X.target == 'fake']\n",
    "# _Unverified = X[X.target == 'Unverified']\n",
    "\n",
    "from sklearn.utils import resample\n",
    "\n",
    "# _true_sampled = resample(_true, \n",
    "#                          replace = True,\n",
    "#                          n_samples = len(_Unverified),\n",
    "#                          random_state = 2020)\n",
    "\n",
    "_fake_sampled = resample(_fake, \n",
    "                         replace = True,\n",
    "#                          n_samples = len(_Unverified),\n",
    "                         n_samples = len(_true),\n",
    "                         random_state = 2020)\n",
    "#Add together again\n",
    "# X = pd.concat([_fake_sampled, _true_sampled, _Unverified])\n",
    "X = pd.concat([_fake_sampled, _true])\n",
    "X.target.value_counts()\n"
   ]
  },
  {
   "cell_type": "code",
   "execution_count": 25,
   "metadata": {},
   "outputs": [],
   "source": [
    "# Add back to the original naming conventions so that we can train the model with the oversampled data\n",
    "x_train = X.text\n",
    "y_train = X.target\n",
    "# x_train.hist()"
   ]
  },
  {
   "cell_type": "code",
   "execution_count": 26,
   "metadata": {},
   "outputs": [],
   "source": [
    "pipe = Pipeline([('vect', CountVectorizer()),\n",
    "                 ('tfidf', TfidfTransformer()),\n",
    "                 ('model', LogisticRegression(dual=False,  max_iter = 1000,  class_weight = 'balanced'))])\n",
    "\n",
    "model = pipe.fit(x_train, y_train)\n",
    "prediction = model.predict(x_test)\n",
    "# prediction = model.predict([clean_text(\"UOW has improved our place in the QS World University Rankings, climbing sixteen places to 196th in the world and 10th in Australia. In 2013 the University set a strategic goal to be ranked in the Top 200 universities in the world. This new ranking puts UOW into that coveted position of Top 200 universities globally. UOW competed with over 1600 institutions worldwide, including 36 Australian universities, and has jumped 87 places in six years due to our globally recognised research activities. Thank you to our UOW research community for your dedication to delivering impact for a better world.\")])\n",
    "# prediction = model.predict([\"fo news uses photo married couple promoting tr\"])\n",
    "# prediction"
   ]
  },
  {
   "cell_type": "code",
   "execution_count": 27,
   "metadata": {},
   "outputs": [
    {
     "name": "stdout",
     "output_type": "stream",
     "text": [
      "accuracy: 92.59%\n",
      "[[11295   663]\n",
      " [  749  6341]]\n",
      "              precision    recall  f1-score   support\n",
      "\n",
      "        fake       0.94      0.94      0.94     11958\n",
      "        true       0.91      0.89      0.90      7090\n",
      "\n",
      "    accuracy                           0.93     19048\n",
      "   macro avg       0.92      0.92      0.92     19048\n",
      "weighted avg       0.93      0.93      0.93     19048\n",
      "\n"
     ]
    }
   ],
   "source": [
    "print(\"accuracy: {}%\".format(round(accuracy_score(y_test, prediction)*100,2)))\n",
    "print(confusion_matrix(y_test, prediction))\n",
    "print(classification_report(y_test, prediction))\n"
   ]
  },
  {
   "cell_type": "code",
   "execution_count": null,
   "metadata": {},
   "outputs": [],
   "source": []
  },
  {
   "cell_type": "code",
   "execution_count": null,
   "metadata": {},
   "outputs": [],
   "source": []
  },
  {
   "cell_type": "code",
   "execution_count": 28,
   "metadata": {},
   "outputs": [],
   "source": [
    "# x_train,x_test,y_train,y_test = train_test_split(news['text'], news.target, test_size=0.3, random_state=2020)\n",
    "\n",
    "pipe = Pipeline([('vect', CountVectorizer()),\n",
    "                 ('tfidf', TfidfTransformer()),\n",
    "                 ('model', LinearSVC())])\n",
    "\n",
    "model = pipe.fit(x_train, y_train)\n",
    "prediction = model.predict(x_test)"
   ]
  },
  {
   "cell_type": "code",
   "execution_count": 248,
   "metadata": {},
   "outputs": [
    {
     "name": "stdout",
     "output_type": "stream",
     "text": [
      "accuracy: 93.35%\n",
      "[[11351   745]\n",
      " [  521  6431]]\n",
      "              precision    recall  f1-score   support\n",
      "\n",
      "        fake       0.96      0.94      0.95     12096\n",
      "        true       0.90      0.93      0.91      6952\n",
      "\n",
      "    accuracy                           0.93     19048\n",
      "   macro avg       0.93      0.93      0.93     19048\n",
      "weighted avg       0.93      0.93      0.93     19048\n",
      "\n"
     ]
    }
   ],
   "source": [
    "print(\"accuracy: {}%\".format(round(accuracy_score(y_test, prediction)*100,2)))\n",
    "print(confusion_matrix(y_test, prediction))\n",
    "print(classification_report(y_test, prediction))\n",
    "import joblib\n",
    "joblib.dump(model, './log_model.joblib')"
   ]
  },
  {
   "cell_type": "code",
   "execution_count": 249,
   "metadata": {},
   "outputs": [],
   "source": [
    "pipe = Pipeline([('vect', CountVectorizer()),\n",
    "                 ('tfidf', TfidfTransformer()),\n",
    "                 ('model', MultinomialNB())])\n",
    "\n",
    "model = pipe.fit(x_train, y_train)\n",
    "prediction = model.predict(x_test)"
   ]
  },
  {
   "cell_type": "code",
   "execution_count": 250,
   "metadata": {},
   "outputs": [
    {
     "name": "stdout",
     "output_type": "stream",
     "text": [
      "accuracy: 85.92%\n",
      "[[10325  1771]\n",
      " [  911  6041]]\n",
      "              precision    recall  f1-score   support\n",
      "\n",
      "        fake       0.92      0.85      0.89     12096\n",
      "        true       0.77      0.87      0.82      6952\n",
      "\n",
      "    accuracy                           0.86     19048\n",
      "   macro avg       0.85      0.86      0.85     19048\n",
      "weighted avg       0.87      0.86      0.86     19048\n",
      "\n"
     ]
    }
   ],
   "source": [
    "print(\"accuracy: {}%\".format(round(accuracy_score(y_test, prediction)*100,2)))\n",
    "print(confusion_matrix(y_test, prediction))\n",
    "print(classification_report(y_test, prediction))"
   ]
  },
  {
   "cell_type": "code",
   "execution_count": 251,
   "metadata": {},
   "outputs": [],
   "source": [
    "pipe = Pipeline([('vect', CountVectorizer()),\n",
    "                 ('tfidf', TfidfTransformer()),\n",
    "                 ('model', DecisionTreeClassifier(criterion= 'entropy',\n",
    "                                           max_depth = 10, \n",
    "                                           splitter='best', \n",
    "                                           random_state=2020))])\n",
    "\n",
    "model = pipe.fit(x_train, y_train)\n",
    "prediction = model.predict(x_test)"
   ]
  },
  {
   "cell_type": "code",
   "execution_count": 252,
   "metadata": {},
   "outputs": [
    {
     "name": "stdout",
     "output_type": "stream",
     "text": [
      "accuracy: 88.2%\n",
      "[[12015    81]\n",
      " [ 2167  4785]]\n",
      "              precision    recall  f1-score   support\n",
      "\n",
      "        fake       0.85      0.99      0.91     12096\n",
      "        true       0.98      0.69      0.81      6952\n",
      "\n",
      "    accuracy                           0.88     19048\n",
      "   macro avg       0.92      0.84      0.86     19048\n",
      "weighted avg       0.90      0.88      0.88     19048\n",
      "\n"
     ]
    }
   ],
   "source": [
    "print(\"accuracy: {}%\".format(round(accuracy_score(y_test, prediction)*100,2)))\n",
    "print(confusion_matrix(y_test, prediction))\n",
    "print(classification_report(y_test, prediction))\n"
   ]
  },
  {
   "cell_type": "code",
   "execution_count": 253,
   "metadata": {},
   "outputs": [
    {
     "data": {
      "text/plain": [
       "array(['fake', 'fake', 'fake', ..., 'fake', 'fake', 'fake'], dtype=object)"
      ]
     },
     "execution_count": 253,
     "metadata": {},
     "output_type": "execute_result"
    }
   ],
   "source": [
    "pipe = Pipeline([('vect', CountVectorizer()),\n",
    "                 ('tfidf', TfidfTransformer()),\n",
    "                 ('model', KNeighborsClassifier(n_neighbors = 10,weights = 'distance',algorithm = 'brute'))])\n",
    "\n",
    "model = pipe.fit(x_train, y_train)\n",
    "prediction = model.predict(x_test)"
   ]
  },
  {
   "cell_type": "code",
   "execution_count": 254,
   "metadata": {},
   "outputs": [
    {
     "name": "stdout",
     "output_type": "stream",
     "text": [
      "accuracy: 74.48%\n",
      "[[11771   325]\n",
      " [ 4536  2416]]\n",
      "              precision    recall  f1-score   support\n",
      "\n",
      "        fake       0.72      0.97      0.83     12096\n",
      "        true       0.88      0.35      0.50      6952\n",
      "\n",
      "    accuracy                           0.74     19048\n",
      "   macro avg       0.80      0.66      0.66     19048\n",
      "weighted avg       0.78      0.74      0.71     19048\n",
      "\n"
     ]
    }
   ],
   "source": [
    "print(\"accuracy: {}%\".format(round(accuracy_score(y_test, prediction)*100,2)))\n",
    "print(confusion_matrix(y_test, prediction))\n",
    "print(classification_report(y_test, prediction))\n"
   ]
  },
  {
   "cell_type": "code",
   "execution_count": 271,
   "metadata": {},
   "outputs": [
    {
     "data": {
      "text/plain": [
       "array([[1],\n",
       "       [0],\n",
       "       [1],\n",
       "       ...,\n",
       "       [1],\n",
       "       [0],\n",
       "       [0]])"
      ]
     },
     "execution_count": 271,
     "metadata": {},
     "output_type": "execute_result"
    }
   ],
   "source": [
    "## LSTM\n",
    "X = news.text\n",
    "Y = news.target\n",
    "le = LabelEncoder()\n",
    "Y = le.fit_transform(Y)\n",
    "Y = Y.reshape(-1,1)"
   ]
  },
  {
   "cell_type": "code",
   "execution_count": 256,
   "metadata": {},
   "outputs": [],
   "source": [
    "X_train,X_test,Y_train,Y_test = train_test_split(X,Y,test_size=0.15)\n",
    "max_words = 500\n",
    "max_len = 75\n",
    "tok = Tokenizer(num_words=max_words)\n",
    "tok.fit_on_texts(X_train)\n",
    "sequences = tok.texts_to_sequences(X_train)\n",
    "sequences_matrix = sequence.pad_sequences(sequences,maxlen=max_len)\n",
    "def RNN():\n",
    "    inputs = Input(name='inputs',shape=[max_len])\n",
    "    layer = Embedding(max_words,50,input_length=max_len)(inputs)\n",
    "    layer = LSTM(64)(layer)\n",
    "    layer = Dense(256,name='FC1')(layer)\n",
    "    layer = Activation('relu')(layer)\n",
    "    layer = Dropout(0.5)(layer)\n",
    "    layer = Dense(1,name='out_layer')(layer)\n",
    "    layer = Activation('sigmoid')(layer)\n",
    "    model = Model(inputs=inputs,outputs=layer)\n",
    "    return model\n",
    "model = RNN()"
   ]
  },
  {
   "cell_type": "code",
   "execution_count": 257,
   "metadata": {},
   "outputs": [
    {
     "name": "stdout",
     "output_type": "stream",
     "text": [
      "Failed to import pydot. You must install pydot and graphviz for `pydotprint` to work.\n"
     ]
    }
   ],
   "source": [
    "from tensorflow.keras.utils import plot_model \n",
    "plot_model(model, to_file='model1.png')\n",
    "model.compile(loss='binary_crossentropy',optimizer=RMSprop(),metrics=['accuracy'])"
   ]
  },
  {
   "cell_type": "code",
   "execution_count": 258,
   "metadata": {},
   "outputs": [
    {
     "name": "stderr",
     "output_type": "stream",
     "text": [
      "C:\\Users\\resuu\\Anaconda3\\lib\\site-packages\\tensorflow_core\\python\\framework\\indexed_slices.py:433: UserWarning: Converting sparse IndexedSlices to a dense Tensor of unknown shape. This may consume a large amount of memory.\n",
      "  \"Converting sparse IndexedSlices to a dense Tensor of unknown shape. \"\n"
     ]
    },
    {
     "name": "stdout",
     "output_type": "stream",
     "text": [
      "Train on 64760 samples, validate on 16191 samples\n",
      "Epoch 1/5\n",
      "64760/64760 [==============================] - 24s 370us/step - loss: 0.3507 - accuracy: 0.8499 - val_loss: 0.2867 - val_accuracy: 0.8802\n",
      "Epoch 2/5\n",
      "64760/64760 [==============================] - 24s 367us/step - loss: 0.2710 - accuracy: 0.8857 - val_loss: 0.2581 - val_accuracy: 0.8891\n",
      "Epoch 3/5\n",
      "64760/64760 [==============================] - 23s 362us/step - loss: 0.2549 - accuracy: 0.8918 - val_loss: 0.2500 - val_accuracy: 0.8919\n",
      "Epoch 4/5\n",
      "64760/64760 [==============================] - 23s 356us/step - loss: 0.2450 - accuracy: 0.8952 - val_loss: 0.2506 - val_accuracy: 0.8917\n"
     ]
    },
    {
     "data": {
      "text/plain": [
       "<keras.callbacks.callbacks.History at 0xbac1b448>"
      ]
     },
     "execution_count": 258,
     "metadata": {},
     "output_type": "execute_result"
    }
   ],
   "source": [
    "model.fit(sequences_matrix,Y_train,batch_size=256,epochs=5,\n",
    "          validation_split=0.2,callbacks=[EarlyStopping(monitor='val_loss',min_delta=0.0001)])"
   ]
  },
  {
   "cell_type": "code",
   "execution_count": 259,
   "metadata": {},
   "outputs": [
    {
     "name": "stdout",
     "output_type": "stream",
     "text": [
      "14286/14286 [==============================] - 3s 215us/step\n",
      "Accuracy: 0.89\n"
     ]
    }
   ],
   "source": [
    "test_sequences = tok.texts_to_sequences(X_test)\n",
    "test_sequences_matrix = sequence.pad_sequences(test_sequences,maxlen=max_len)\n",
    "accr = model.evaluate(test_sequences_matrix,Y_test)\n",
    "print('Accuracy: {:0.2f}'.format(accr[1]))"
   ]
  },
  {
   "cell_type": "code",
   "execution_count": 260,
   "metadata": {},
   "outputs": [],
   "source": [
    "with open('./news/sample_real.txt', 'r', errors='ignore') as file:\n",
    "    actual_fake_news = file.read().replace('\\n', '')"
   ]
  },
  {
   "cell_type": "code",
   "execution_count": 261,
   "metadata": {},
   "outputs": [
    {
     "name": "stderr",
     "output_type": "stream",
     "text": [
      "[nltk_data] Downloading package stopwords to\n",
      "[nltk_data]     C:\\Users\\resuu\\AppData\\Roaming\\nltk_data...\n",
      "[nltk_data]   Package stopwords is already up-to-date!\n"
     ]
    }
   ],
   "source": [
    "REPLACE_BY_SPACE_RE = re.compile('[/(){}\\[\\]\\|@,;]')\n",
    "BAD_SYMBOLS_RE = re.compile('[^0-9a-z #+_]')\n",
    "nltk.download('stopwords')\n",
    "STOPWORDS = set(stopwords.words('english'))\n",
    "\n",
    "def clean_text(text):\n",
    "    \"\"\"\n",
    "        text: a string\n",
    "        \n",
    "        return: modified initial string\n",
    "    \"\"\"\n",
    "    text = text.lower() # lowercase text\n",
    "    text = REPLACE_BY_SPACE_RE.sub(' ', text) # replace REPLACE_BY_SPACE_RE symbols by space in text. substitute the matched string in REPLACE_BY_SPACE_RE with space.\n",
    "    text = BAD_SYMBOLS_RE.sub('', text) # remove symbols which are in BAD_SYMBOLS_RE from text. substitute the matched string in BAD_SYMBOLS_RE with nothing. \n",
    "    text = text.replace('x', '')\n",
    "#    text = re.sub(r'\\W+', '', text)\n",
    "    text = ' '.join(word for word in text.split() if word not in STOPWORDS) # remove stopwors from text\n",
    "    return text"
   ]
  },
  {
   "cell_type": "code",
   "execution_count": 266,
   "metadata": {},
   "outputs": [],
   "source": [
    "# actual_fake_news = clean_text(actual_fake_news)\n",
    "actual_fake_news = clean_text(\"Hana marched to the beat of her own drum. She was funny, charismatic and a truly kind person. The worldwide outpouring of emotion has been a blessing to the Stardom family. Surely Hana is looking down and smiling at all of the love. Be kind to one another, and thank you.\")\n"
   ]
  },
  {
   "cell_type": "code",
   "execution_count": 267,
   "metadata": {},
   "outputs": [],
   "source": [
    "# actual_fake_news\n",
    "seq = tok.texts_to_sequences(actual_fake_news)\n",
    "padded = pad_sequences(seq, maxlen = max_len)"
   ]
  },
  {
   "cell_type": "code",
   "execution_count": 268,
   "metadata": {},
   "outputs": [],
   "source": [
    "pred = model.predict(padded)"
   ]
  },
  {
   "cell_type": "code",
   "execution_count": 269,
   "metadata": {},
   "outputs": [
    {
     "data": {
      "text/plain": [
       "array([[0.29794842],\n",
       "       [0.29794842],\n",
       "       [0.29794842],\n",
       "       [0.29794842],\n",
       "       [0.29794842],\n",
       "       [0.29794842],\n",
       "       [0.29794842],\n",
       "       [0.29794842],\n",
       "       [0.29794842],\n",
       "       [0.29794842],\n",
       "       [0.29794842],\n",
       "       [0.29794842],\n",
       "       [0.29794842],\n",
       "       [0.29794842],\n",
       "       [0.29794842],\n",
       "       [0.29794842],\n",
       "       [0.29794842],\n",
       "       [0.29794842],\n",
       "       [0.29794842],\n",
       "       [0.29794842],\n",
       "       [0.29794842],\n",
       "       [0.29794842],\n",
       "       [0.29794842],\n",
       "       [0.29794842],\n",
       "       [0.29794842],\n",
       "       [0.29794842],\n",
       "       [0.29794842],\n",
       "       [0.29794842],\n",
       "       [0.29794842],\n",
       "       [0.29794842],\n",
       "       [0.29794842],\n",
       "       [0.29794842],\n",
       "       [0.29794842],\n",
       "       [0.29794842],\n",
       "       [0.29794842],\n",
       "       [0.29794842],\n",
       "       [0.29794842],\n",
       "       [0.29794842],\n",
       "       [0.29794842],\n",
       "       [0.29794842],\n",
       "       [0.29794842],\n",
       "       [0.29794842],\n",
       "       [0.29794842],\n",
       "       [0.29794842],\n",
       "       [0.29794842],\n",
       "       [0.29794842],\n",
       "       [0.29794842],\n",
       "       [0.29794842],\n",
       "       [0.29794842],\n",
       "       [0.29794842],\n",
       "       [0.29794842],\n",
       "       [0.29794842],\n",
       "       [0.29794842],\n",
       "       [0.29794842],\n",
       "       [0.29794842],\n",
       "       [0.29794842],\n",
       "       [0.29794842],\n",
       "       [0.29794842],\n",
       "       [0.29794842],\n",
       "       [0.29794842],\n",
       "       [0.29794842],\n",
       "       [0.29794842],\n",
       "       [0.29794842],\n",
       "       [0.29794842],\n",
       "       [0.29794842],\n",
       "       [0.29794842],\n",
       "       [0.29794842],\n",
       "       [0.29794842],\n",
       "       [0.29794842],\n",
       "       [0.29794842],\n",
       "       [0.29794842],\n",
       "       [0.29794842],\n",
       "       [0.29794842],\n",
       "       [0.29794842],\n",
       "       [0.29794842],\n",
       "       [0.29794842],\n",
       "       [0.29794842],\n",
       "       [0.29794842],\n",
       "       [0.29794842],\n",
       "       [0.29794842],\n",
       "       [0.29794842],\n",
       "       [0.29794842],\n",
       "       [0.29794842],\n",
       "       [0.29794842],\n",
       "       [0.29794842],\n",
       "       [0.29794842],\n",
       "       [0.29794842],\n",
       "       [0.29794842],\n",
       "       [0.29794842],\n",
       "       [0.29794842],\n",
       "       [0.29794842],\n",
       "       [0.29794842],\n",
       "       [0.29794842],\n",
       "       [0.29794842],\n",
       "       [0.29794842],\n",
       "       [0.29794842],\n",
       "       [0.29794842],\n",
       "       [0.29794842],\n",
       "       [0.29794842],\n",
       "       [0.29794842],\n",
       "       [0.29794842],\n",
       "       [0.29794842],\n",
       "       [0.29794842],\n",
       "       [0.29794842],\n",
       "       [0.29794842],\n",
       "       [0.29794842],\n",
       "       [0.29794842],\n",
       "       [0.29794842],\n",
       "       [0.29794842],\n",
       "       [0.29794842],\n",
       "       [0.29794842],\n",
       "       [0.29794842],\n",
       "       [0.29794842],\n",
       "       [0.29794842],\n",
       "       [0.29794842],\n",
       "       [0.29794842],\n",
       "       [0.29794842],\n",
       "       [0.29794842],\n",
       "       [0.29794842],\n",
       "       [0.29794842],\n",
       "       [0.29794842],\n",
       "       [0.29794842],\n",
       "       [0.29794842],\n",
       "       [0.29794842],\n",
       "       [0.29794842],\n",
       "       [0.29794842],\n",
       "       [0.29794842],\n",
       "       [0.29794842],\n",
       "       [0.29794842],\n",
       "       [0.29794842],\n",
       "       [0.29794842],\n",
       "       [0.29794842],\n",
       "       [0.29794842],\n",
       "       [0.29794842],\n",
       "       [0.29794842],\n",
       "       [0.29794842],\n",
       "       [0.29794842],\n",
       "       [0.29794842],\n",
       "       [0.29794842],\n",
       "       [0.29794842],\n",
       "       [0.29794842],\n",
       "       [0.29794842],\n",
       "       [0.29794842],\n",
       "       [0.29794842],\n",
       "       [0.29794842],\n",
       "       [0.29794842],\n",
       "       [0.29794842],\n",
       "       [0.29794842],\n",
       "       [0.29794842],\n",
       "       [0.29794842],\n",
       "       [0.29794842],\n",
       "       [0.29794842],\n",
       "       [0.29794842],\n",
       "       [0.29794842],\n",
       "       [0.29794842],\n",
       "       [0.29794842],\n",
       "       [0.29794842],\n",
       "       [0.29794842],\n",
       "       [0.29794842],\n",
       "       [0.29794842],\n",
       "       [0.29794842],\n",
       "       [0.29794842],\n",
       "       [0.29794842],\n",
       "       [0.29794842],\n",
       "       [0.29794842],\n",
       "       [0.29794842],\n",
       "       [0.29794842]], dtype=float32)"
      ]
     },
     "execution_count": 269,
     "metadata": {},
     "output_type": "execute_result"
    }
   ],
   "source": [
    "# actual_fake_news = [actual_fake_news]\n",
    "pred"
   ]
  },
  {
   "cell_type": "code",
   "execution_count": 270,
   "metadata": {},
   "outputs": [
    {
     "data": {
      "text/plain": [
       "array([0.29794842], dtype=float32)"
      ]
     },
     "execution_count": 270,
     "metadata": {},
     "output_type": "execute_result"
    }
   ],
   "source": []
  },
  {
   "cell_type": "code",
   "execution_count": null,
   "metadata": {},
   "outputs": [],
   "source": []
  }
 ],
 "metadata": {
  "kernelspec": {
   "display_name": "Python 3",
   "language": "python",
   "name": "python3"
  },
  "language_info": {
   "codemirror_mode": {
    "name": "ipython",
    "version": 3
   },
   "file_extension": ".py",
   "mimetype": "text/x-python",
   "name": "python",
   "nbconvert_exporter": "python",
   "pygments_lexer": "ipython3",
   "version": "3.7.6"
  },
  "varInspector": {
   "cols": {
    "lenName": 16,
    "lenType": 16,
    "lenVar": 40
   },
   "kernels_config": {
    "python": {
     "delete_cmd_postfix": "",
     "delete_cmd_prefix": "del ",
     "library": "var_list.py",
     "varRefreshCmd": "print(var_dic_list())"
    },
    "r": {
     "delete_cmd_postfix": ") ",
     "delete_cmd_prefix": "rm(",
     "library": "var_list.r",
     "varRefreshCmd": "cat(var_dic_list()) "
    }
   },
   "types_to_exclude": [
    "module",
    "function",
    "builtin_function_or_method",
    "instance",
    "_Feature"
   ],
   "window_display": false
  }
 },
 "nbformat": 4,
 "nbformat_minor": 4
}
